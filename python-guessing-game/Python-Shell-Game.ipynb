{
 "cells": [
  {
   "cell_type": "code",
   "execution_count": 14,
   "id": "2e48484a-fbaa-4db2-a7f2-1cbb701945b7",
   "metadata": {},
   "outputs": [
    {
     "name": "stdin",
     "output_type": "stream",
     "text": [
      "Pick a number: 0, 1, or 2:  1\n"
     ]
    },
    {
     "name": "stdout",
     "output_type": "stream",
     "text": [
      "🎉 Correct Guess! You found the 'O'!\n"
     ]
    }
   ],
   "source": [
    "from random import shuffle\n",
    "\n",
    "# Function to shuffle the list randomly\n",
    "def shuffle_list(mylist):\n",
    "    shuffle(mylist)  # Shuffles the list in place\n",
    "    return mylist\n",
    "\n",
    "# Function to get the player's guess\n",
    "def player_guess():\n",
    "    guess = ''\n",
    "    \n",
    "    while guess not in ['0', '1', '2']:\n",
    "        # Ensures the user inputs a valid number (0, 1, or 2)\n",
    "        guess = input(\"Pick a number: 0, 1, or 2: \")\n",
    "    \n",
    "    return int(guess)\n",
    "\n",
    "# Function to check if the player's guess is correct\n",
    "def check_guess(mylist, guess):\n",
    "    if mylist[guess] == 'O':\n",
    "        print(\"🎉 Correct Guess! You found the 'O'!\")\n",
    "    else:\n",
    "        print(\"❌ Wrong! Better luck next time.\")\n",
    "        print(\"The correct order was:\", mylist)\n",
    "\n",
    "# Game Setup and Execution\n",
    "if __name__ == \"__main__\":\n",
    "    # Initial list with hidden 'O'\n",
    "    mylist = [' ', 'O', ' ']\n",
    "\n",
    "    # Shuffle the list to randomize positions\n",
    "    mixedup_list = shuffle_list(mylist)\n",
    "\n",
    "    # Get the player's guess\n",
    "    guess = player_guess()\n",
    "\n",
    "    # Check if the guess is correct\n",
    "    check_guess(mixedup_list, guess)\n"
   ]
  },
  {
   "cell_type": "code",
   "execution_count": null,
   "id": "6ea786e4-fd18-4961-b6e5-a37ebffd956d",
   "metadata": {},
   "outputs": [],
   "source": []
  }
 ],
 "metadata": {
  "kernelspec": {
   "display_name": "Python [conda env:base] *",
   "language": "python",
   "name": "conda-base-py"
  },
  "language_info": {
   "codemirror_mode": {
    "name": "ipython",
    "version": 3
   },
   "file_extension": ".py",
   "mimetype": "text/x-python",
   "name": "python",
   "nbconvert_exporter": "python",
   "pygments_lexer": "ipython3",
   "version": "3.12.7"
  }
 },
 "nbformat": 4,
 "nbformat_minor": 5
}
