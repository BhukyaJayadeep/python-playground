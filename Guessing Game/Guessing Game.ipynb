{
 "cells": [
  {
   "cell_type": "markdown",
   "id": "8db88726-c94e-4ba4-a671-23d72e23aaf1",
   "metadata": {},
   "source": [
    "#  Guessing Game Challenge"
   ]
  },
  {
   "cell_type": "markdown",
   "id": "8943fe36-051d-4c50-afe2-06f5cb3e4f69",
   "metadata": {},
   "source": [
    "##### STEP 1: Generate a Random Number Between 1 and 100"
   ]
  },
  {
   "cell_type": "code",
   "execution_count": 6,
   "id": "0a97fdd6-f26b-4658-b6e6-31fe768c1881",
   "metadata": {},
   "outputs": [],
   "source": [
    "import random\n",
    "num = random.randint(1, 100)"
   ]
  },
  {
   "cell_type": "markdown",
   "id": "bb3e9324-4b95-4d7e-b82b-8bb2b6cf0a89",
   "metadata": {},
   "source": [
    "##### STEP 2: Display Introduction & Game Rules"
   ]
  },
  {
   "cell_type": "code",
   "execution_count": 8,
   "id": "d1e393c4-5782-4b7c-b703-fe79b640fe02",
   "metadata": {},
   "outputs": [
    {
     "name": "stdout",
     "output_type": "stream",
     "text": [
      "WELCOME TO THE GUESSING GAME!\n",
      "I'm thinking of a number between 1 and 100.\n",
      "If your guess is more than 10 away from my number, I'll tell you you're COLD.\n",
      "If your guess is within 10 of my number, I'll tell you you're WARM.\n",
      "If your guess is farther than your most recent guess, I'll say you're getting COLDER.\n",
      "If your guess is closer than your most recent guess, I'll say you're getting WARMER.\n",
      "LET'S START THE GAME!\n"
     ]
    }
   ],
   "source": [
    "print(\"WELCOME TO THE GUESSING GAME!\")\n",
    "print(\"I'm thinking of a number between 1 and 100.\")\n",
    "print(\"If your guess is more than 10 away from my number, I'll tell you you're COLD.\")\n",
    "print(\"If your guess is within 10 of my number, I'll tell you you're WARM.\")\n",
    "print(\"If your guess is farther than your most recent guess, I'll say you're getting COLDER.\")\n",
    "print(\"If your guess is closer than your most recent guess, I'll say you're getting WARMER.\")\n",
    "print(\"LET'S START THE GAME!\")"
   ]
  },
  {
   "cell_type": "markdown",
   "id": "60bf4052-074f-4a20-8d98-26d9ea2faf6a",
   "metadata": {},
   "source": [
    "##### STEP 3: Create a List to Track Guesses (Zero is a Placeholder for First Guess)"
   ]
  },
  {
   "cell_type": "code",
   "execution_count": 10,
   "id": "02207bc4-83a0-4fdb-b9b1-f4d5571ee28e",
   "metadata": {},
   "outputs": [],
   "source": [
    "guesses = [0]"
   ]
  },
  {
   "cell_type": "markdown",
   "id": "aac2989b-47f7-464f-b4b0-a945bf0d9a90",
   "metadata": {},
   "source": [
    "##### STEP 4: While Loop to Handle the Player's Guessing Logic"
   ]
  },
  {
   "cell_type": "code",
   "execution_count": 12,
   "id": "abc1d5ed-8304-4b98-887a-a954e2ca556a",
   "metadata": {},
   "outputs": [
    {
     "name": "stdin",
     "output_type": "stream",
     "text": [
      "I have a number in mind between 1 and 100.\n",
      "  What's your guess?  70\n"
     ]
    },
    {
     "name": "stdout",
     "output_type": "stream",
     "text": [
      "You are COLD!\n"
     ]
    },
    {
     "name": "stdin",
     "output_type": "stream",
     "text": [
      "I have a number in mind between 1 and 100.\n",
      "  What's your guess?  80\n"
     ]
    },
    {
     "name": "stdout",
     "output_type": "stream",
     "text": [
      "You are getting WARMER!\n"
     ]
    },
    {
     "name": "stdin",
     "output_type": "stream",
     "text": [
      "I have a number in mind between 1 and 100.\n",
      "  What's your guess?  90\n"
     ]
    },
    {
     "name": "stdout",
     "output_type": "stream",
     "text": [
      "You are getting WARMER!\n"
     ]
    },
    {
     "name": "stdin",
     "output_type": "stream",
     "text": [
      "I have a number in mind between 1 and 100.\n",
      "  What's your guess?  75\n"
     ]
    },
    {
     "name": "stdout",
     "output_type": "stream",
     "text": [
      "You are getting COLDER!\n"
     ]
    },
    {
     "name": "stdin",
     "output_type": "stream",
     "text": [
      "I have a number in mind between 1 and 100.\n",
      "  What's your guess?  95\n"
     ]
    },
    {
     "name": "stdout",
     "output_type": "stream",
     "text": [
      "You are getting WARMER!\n"
     ]
    },
    {
     "name": "stdin",
     "output_type": "stream",
     "text": [
      "I have a number in mind between 1 and 100.\n",
      "  What's your guess?  96\n"
     ]
    },
    {
     "name": "stdout",
     "output_type": "stream",
     "text": [
      "You are getting COLDER!\n"
     ]
    },
    {
     "name": "stdin",
     "output_type": "stream",
     "text": [
      "I have a number in mind between 1 and 100.\n",
      "  What's your guess?  94\n"
     ]
    },
    {
     "name": "stdout",
     "output_type": "stream",
     "text": [
      "You are getting WARMER!\n"
     ]
    },
    {
     "name": "stdin",
     "output_type": "stream",
     "text": [
      "I have a number in mind between 1 and 100.\n",
      "  What's your guess?  91\n"
     ]
    },
    {
     "name": "stdout",
     "output_type": "stream",
     "text": [
      "You are getting WARMER!\n"
     ]
    },
    {
     "name": "stdin",
     "output_type": "stream",
     "text": [
      "I have a number in mind between 1 and 100.\n",
      "  What's your guess?  93\n"
     ]
    },
    {
     "name": "stdout",
     "output_type": "stream",
     "text": [
      "You are getting COLDER!\n"
     ]
    },
    {
     "name": "stdin",
     "output_type": "stream",
     "text": [
      "I have a number in mind between 1 and 100.\n",
      "  What's your guess?  92\n"
     ]
    },
    {
     "name": "stdout",
     "output_type": "stream",
     "text": [
      "CONGRATULATIONS! You guessed the number in 10 attempts.\n"
     ]
    }
   ],
   "source": [
    "while True:\n",
    "    # Ask the player for their guess\n",
    "    guess = int(input(\"I have a number in mind between 1 and 100.\\n  What's your guess? \"))\n",
    "    \n",
    "    # Check if the guess is within the valid range (1 to 100)\n",
    "    if guess < 1 or guess > 100:\n",
    "        print('Your guess is out of bounds! Try again.')\n",
    "        continue    \n",
    "    \n",
    "    # Check if the player guessed correctly\n",
    "    if guess == num:\n",
    "        print(f'CONGRATULATIONS! You guessed the number in {len(guesses)} attempts.')\n",
    "        break        \n",
    "    \n",
    "    # Add the guess to the guesses list for comparison in the next step\n",
    "    guesses.append(guess)    \n",
    "    \n",
    "    # For subsequent guesses, compare the current guess to the previous guess\n",
    "    if guesses[-2]:  # Skips the first guess (0 placeholder)\n",
    "        if abs(num - guess) < abs(num - guesses[-2]):\n",
    "            print('You are getting WARMER!')\n",
    "        else:\n",
    "            print('You are getting COLDER!')\n",
    "    else:\n",
    "        # If it's the first guess, check if it's close to the number\n",
    "        if abs(num - guess) <= 10:\n",
    "            print('You are WARM!')\n",
    "        else:\n",
    "            print('You are COLD!')"
   ]
  },
  {
   "cell_type": "code",
   "execution_count": null,
   "id": "fdcf35b4-335f-4ec8-a806-ebb0006f1c1c",
   "metadata": {},
   "outputs": [],
   "source": []
  }
 ],
 "metadata": {
  "kernelspec": {
   "display_name": "Python [conda env:base] *",
   "language": "python",
   "name": "conda-base-py"
  },
  "language_info": {
   "codemirror_mode": {
    "name": "ipython",
    "version": 3
   },
   "file_extension": ".py",
   "mimetype": "text/x-python",
   "name": "python",
   "nbconvert_exporter": "python",
   "pygments_lexer": "ipython3",
   "version": "3.12.7"
  }
 },
 "nbformat": 4,
 "nbformat_minor": 5
}
